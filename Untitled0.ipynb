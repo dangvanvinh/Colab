{
  "nbformat": 4,
  "nbformat_minor": 0,
  "metadata": {
    "colab": {
      "provenance": []
    },
    "kernelspec": {
      "name": "python3",
      "display_name": "Python 3"
    },
    "language_info": {
      "name": "python"
    }
  },
  "cells": [
    {
      "cell_type": "code",
      "execution_count": 2,
      "metadata": {
        "colab": {
          "base_uri": "https://localhost:8080/"
        },
        "id": "YTnD070lW4NS",
        "outputId": "8f326738-bfc6-4c25-fd80-1c82fdd728bc"
      },
      "outputs": [
        {
          "output_type": "stream",
          "name": "stdout",
          "text": [
            "i = 1\n",
            "i = 2\n",
            "i = 3\n",
            "i = 4\n",
            "i = 5\n",
            "name : Chi\n",
            "age : 20\n",
            "major : math\n",
            "name : Chi\n",
            "age : 20\n",
            "major : Math\n",
            "-----\n",
            "name : An\n",
            "age : 21\n",
            "major : Physics\n",
            "-----\n",
            "name : Binh\n",
            "age : 22\n",
            "major : CS\n",
            "-----\n",
            "0 Táo\n",
            "1 Cam\n",
            "2 Chuối\n",
            "i=0, j=0\n",
            "i=0, j=1\n",
            "i=1, j=0\n",
            "i=1, j=1\n",
            "i=2, j=0\n",
            "i=2, j=1\n",
            "0\n",
            "1\n",
            "2\n",
            "3\n",
            "4\n",
            "odd number: 1\n",
            "odd number: 3\n",
            "0\n",
            "1\n",
            "2\n",
            "3\n",
            "4\n",
            "Kết thúc vòng lặp\n",
            "Không tìm thấy Hoa\n",
            "123\n"
          ]
        }
      ],
      "source": [
        "for i in range(5):\n",
        "    i+=1\n",
        "    print(\"i =\",i)\n",
        "#----------------------------------\n",
        "student = {\"name\": \"Chi\", \"age\": 20, \"major\":\"math\"}\n",
        "for k in student: print(k,\":\",student[k])\n",
        "#-------------------------------------------\n",
        "students = [\n",
        "    {\"name\": \"Chi\", \"age\": 20, \"major\": \"Math\"},\n",
        "    {\"name\": \"An\", \"age\": 21, \"major\": \"Physics\"},\n",
        "    {\"name\": \"Binh\", \"age\": 22, \"major\": \"CS\"}\n",
        "]\n",
        "for student in students:\n",
        "    for k, v in student.items():\n",
        "        print(k, \":\", v)\n",
        "    print(\"-----\")\n",
        "#----------------------\n",
        "fruits = [\"Táo\", \"Cam\", \"Chuối\"]\n",
        "for index, fruit in enumerate(fruits):\n",
        "    print(index, fruit)\n",
        "#-----------------------------\n",
        "for i in range(3):\n",
        "    for j in range(2):\n",
        "        print(f\"i={i}, j={j}\")\n",
        "#------------------\n",
        "for i in range(10):\n",
        "    if i == 5:\n",
        "        break\n",
        "    print(i)\n",
        "#--------------\n",
        "for i in range(5):\n",
        "    if i % 2 == 0:\n",
        "        continue\n",
        "    print(\"odd number:\",i)   # chỉ in số lẻ\n",
        "#---------------------\n",
        "for i in range(5):\n",
        "    print(i)\n",
        "else:\n",
        "    print(\"Kết thúc vòng lặp\")\n",
        "#------------------------\n",
        "students = [\"Chi\", \"An\", \"Binh\"]\n",
        "target = \"Hoa\"\n",
        "\n",
        "for s in students:\n",
        "    if s == target:\n",
        "        print(\"Tìm thấy:\", s)\n",
        "        break\n",
        "else:\n",
        "    print(\"Không tìm thấy\", target)\n",
        "#----------------------\n",
        "st=str(123)\n",
        "print(st)"
      ]
    }
  ]
}